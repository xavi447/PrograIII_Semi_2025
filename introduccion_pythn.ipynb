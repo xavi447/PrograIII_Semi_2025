{
  "nbformat": 4,
  "nbformat_minor": 0,
  "metadata": {
    "colab": {
      "provenance": [],
      "authorship_tag": "ABX9TyPLdS+gQnHtpaV+TpDEgMuv",
      "include_colab_link": true
    },
    "kernelspec": {
      "name": "python3",
      "display_name": "Python 3"
    },
    "language_info": {
      "name": "python"
    }
  },
  "cells": [
    {
      "cell_type": "markdown",
      "metadata": {
        "id": "view-in-github",
        "colab_type": "text"
      },
      "source": [
        "<a href=\"https://colab.research.google.com/github/xavi447/PrograIII_Semi_2025/blob/main/introduccion_pythn.ipynb\" target=\"_parent\"><img src=\"https://colab.research.google.com/assets/colab-badge.svg\" alt=\"Open In Colab\"/></a>"
      ]
    },
    {
      "cell_type": "code",
      "execution_count": null,
      "metadata": {
        "colab": {
          "base_uri": "https://localhost:8080/"
        },
        "id": "P7ssM0rocB2U",
        "outputId": "bd9b70de-7dd2-4947-c146-148128ae5c78"
      },
      "outputs": [
        {
          "output_type": "stream",
          "name": "stdout",
          "text": [
            "Hola mundo!\n",
            "Bienvenidos a la clase de programacion computacional III\n"
          ]
        }
      ],
      "source": [
        "print(\"Hola mundo!\")\n",
        "print(\"Bienvenidos a la clase de programacion computacional III\")"
      ]
    },
    {
      "cell_type": "code",
      "source": [
        "nombre = \"Javier Romero\"\n",
        "edad = 20\n",
        "print(nombre, edad)\n",
        "\n",
        "edad = \"veinte\"\n",
        "print(\"tu edad: \", edad)"
      ],
      "metadata": {
        "colab": {
          "base_uri": "https://localhost:8080/"
        },
        "id": "Gdg92uovdLq0",
        "outputId": "77cf2b67-c5da-477b-8bbf-d3326f551829"
      },
      "execution_count": null,
      "outputs": [
        {
          "output_type": "stream",
          "name": "stdout",
          "text": [
            "Javier Romero 20\n",
            "tu edad:  veinte\n"
          ]
        }
      ]
    },
    {
      "cell_type": "code",
      "source": [
        "num1 = 7\n",
        "num2= 6.5\n",
        "suma = num1 + num2\n",
        "print(\"La suma es:\", suma)"
      ],
      "metadata": {
        "colab": {
          "base_uri": "https://localhost:8080/"
        },
        "id": "yyMbr0Lhe5-U",
        "outputId": "0b41ca59-796b-4daa-836f-f7e6c26cde34"
      },
      "execution_count": null,
      "outputs": [
        {
          "output_type": "stream",
          "name": "stdout",
          "text": [
            "La suma es: 13.5\n"
          ]
        }
      ]
    },
    {
      "cell_type": "code",
      "source": [
        "num1 = float (input(\"Num1: \"))\n",
        "num2 = float (input(\"Num2: \"))\n",
        "suma = num1 + num2\n",
        "print(\"La suma es: \", suma)"
      ],
      "metadata": {
        "colab": {
          "base_uri": "https://localhost:8080/"
        },
        "id": "U3mBlEsgfeVX",
        "outputId": "4fd21d1c-3af0-49c6-ecc1-062d6ae5335c"
      },
      "execution_count": null,
      "outputs": [
        {
          "output_type": "stream",
          "name": "stdout",
          "text": [
            "Num1: 20\n",
            "Num2: 13\n",
            "La suma es:  33.0\n"
          ]
        }
      ]
    },
    {
      "cell_type": "code",
      "source": [
        "num1 = float(input(\"Num1: \"))\n",
        "num2 = float(input(\"Num2: \"))\n",
        "resta = num1 - num2\n",
        "print(\"La resta es: \", resta)"
      ],
      "metadata": {
        "colab": {
          "base_uri": "https://localhost:8080/"
        },
        "id": "55mS1Dl3hwm8",
        "outputId": "cb50d532-72ef-45c1-c898-6348bdcf98a5"
      },
      "execution_count": null,
      "outputs": [
        {
          "output_type": "stream",
          "name": "stdout",
          "text": [
            "Num1: 3\n",
            "Num2: 3\n",
            "La resta es:  0.0\n"
          ]
        }
      ]
    },
    {
      "cell_type": "markdown",
      "source": [
        "TIPOS DE DATOS EN PYTHON"
      ],
      "metadata": {
        "id": "9Jrbpv9hMj8J"
      }
    },
    {
      "cell_type": "code",
      "source": [
        "# entero\n",
        "num1 = 6\n",
        "print (str(num1) + \" Esto es un numero entero\")\n",
        "\n",
        "#Decimal\n",
        "num2 = 7.5\n",
        "print(num2, \"Esto es un numero decimal\")\n",
        "\n",
        "#Boolenao\n",
        "esMayor = True\n",
        "print(esMayor, \"Esto es un booleano\")\n",
        "\n",
        "#Cadena\n",
        "nombre = \"Javier Romero\"\n",
        "print(nombre, \"Esto es una cadena\")\n",
        "print(nombre, \"Letra inicial:\", nombre[0],\"Un valor en especifico:\", nombre[5], \"rango:\", nombre[0:6],\"Comenzar desde el final:\", nombre[-1])\n",
        "\n",
        "#Fecha\n",
        "from datetime import datetime, date, time\n",
        "fecha = datetime.now()\n",
        "print(fecha, fecha.date(), fecha.time())\n",
        "print(type(fecha))\n",
        "\n",
        "\n",
        "fechaPersonalizada = date(2025,8,1)\n",
        "print(fechaPersonalizada)"
      ],
      "metadata": {
        "colab": {
          "base_uri": "https://localhost:8080/"
        },
        "id": "s5ONouDjMsnL",
        "outputId": "32ef4956-41be-4983-a526-47d8b8eec734"
      },
      "execution_count": 26,
      "outputs": [
        {
          "output_type": "stream",
          "name": "stdout",
          "text": [
            "6 Esto es un numero entero\n",
            "7.5 Esto es un numero decimal\n",
            "True Esto es un booleano\n",
            "Javier Romero Esto es una cadena\n",
            "Javier Romero Letra inicial: J Un valor en especifico: r rango: Javier Comenzar desde el final: o\n",
            "2025-07-28 14:09:48.340174 2025-07-28 14:09:48.340174\n",
            "<class 'datetime.datetime'>\n",
            "2025-08-01\n"
          ]
        }
      ]
    }
  ]
}