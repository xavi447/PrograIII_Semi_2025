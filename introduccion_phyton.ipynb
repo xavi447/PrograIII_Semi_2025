{
  "nbformat": 4,
  "nbformat_minor": 0,
  "metadata": {
    "colab": {
      "provenance": [],
      "authorship_tag": "ABX9TyOzBZKw8bYS19gkKVQWRoVW",
      "include_colab_link": true
    },
    "kernelspec": {
      "name": "python3",
      "display_name": "Python 3"
    },
    "language_info": {
      "name": "python"
    }
  },
  "cells": [
    {
      "cell_type": "markdown",
      "metadata": {
        "id": "view-in-github",
        "colab_type": "text"
      },
      "source": [
        "<a href=\"https://colab.research.google.com/github/xavi447/PrograIII_Semi_2025/blob/main/introduccion_phyton.ipynb\" target=\"_parent\"><img src=\"https://colab.research.google.com/assets/colab-badge.svg\" alt=\"Open In Colab\"/></a>"
      ]
    },
    {
      "cell_type": "code",
      "execution_count": 2,
      "metadata": {
        "colab": {
          "base_uri": "https://localhost:8080/"
        },
        "id": "P7ssM0rocB2U",
        "outputId": "bd9b70de-7dd2-4947-c146-148128ae5c78"
      },
      "outputs": [
        {
          "output_type": "stream",
          "name": "stdout",
          "text": [
            "Hola mundo!\n",
            "Bienvenidos a la clase de programacion computacional III\n"
          ]
        }
      ],
      "source": [
        "print(\"Hola mundo!\")\n",
        "print(\"Bienvenidos a la clase de programacion computacional III\")"
      ]
    },
    {
      "cell_type": "code",
      "source": [
        "nombre = \"Javier Romero\"\n",
        "edad = 20\n",
        "print(nombre, edad)\n",
        "\n",
        "edad = \"veinte\"\n",
        "print(\"tu edad: \", edad)"
      ],
      "metadata": {
        "colab": {
          "base_uri": "https://localhost:8080/"
        },
        "id": "Gdg92uovdLq0",
        "outputId": "77cf2b67-c5da-477b-8bbf-d3326f551829"
      },
      "execution_count": 7,
      "outputs": [
        {
          "output_type": "stream",
          "name": "stdout",
          "text": [
            "Javier Romero 20\n",
            "tu edad:  veinte\n"
          ]
        }
      ]
    },
    {
      "cell_type": "code",
      "source": [
        "num1 = 7\n",
        "num2= 6.5\n",
        "suma = num1 + num2\n",
        "print(\"La suma es:\", suma)"
      ],
      "metadata": {
        "colab": {
          "base_uri": "https://localhost:8080/"
        },
        "id": "yyMbr0Lhe5-U",
        "outputId": "0b41ca59-796b-4daa-836f-f7e6c26cde34"
      },
      "execution_count": 9,
      "outputs": [
        {
          "output_type": "stream",
          "name": "stdout",
          "text": [
            "La suma es: 13.5\n"
          ]
        }
      ]
    },
    {
      "cell_type": "code",
      "source": [
        "num1 = float (input(\"Num1: \"))\n",
        "num2 = float (input(\"Num2: \"))\n",
        "suma = num1 + num2\n",
        "print(\"La suma es: \", suma)"
      ],
      "metadata": {
        "colab": {
          "base_uri": "https://localhost:8080/"
        },
        "id": "U3mBlEsgfeVX",
        "outputId": "4fd21d1c-3af0-49c6-ecc1-062d6ae5335c"
      },
      "execution_count": 14,
      "outputs": [
        {
          "output_type": "stream",
          "name": "stdout",
          "text": [
            "Num1: 20\n",
            "Num2: 13\n",
            "La suma es:  33.0\n"
          ]
        }
      ]
    },
    {
      "cell_type": "code",
      "source": [
        "num1 = float(input(\"Num1: \"))\n",
        "num2 = float(input(\"Num2: \"))\n",
        "resta = num1 - num2\n",
        "print(\"La resta es: \", resta)"
      ],
      "metadata": {
        "colab": {
          "base_uri": "https://localhost:8080/"
        },
        "id": "55mS1Dl3hwm8",
        "outputId": "cb50d532-72ef-45c1-c898-6348bdcf98a5"
      },
      "execution_count": 15,
      "outputs": [
        {
          "output_type": "stream",
          "name": "stdout",
          "text": [
            "Num1: 3\n",
            "Num2: 3\n",
            "La resta es:  0.0\n"
          ]
        }
      ]
    }
  ]
}