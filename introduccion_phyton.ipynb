{
  "nbformat": 4,
  "nbformat_minor": 0,
  "metadata": {
    "colab": {
      "provenance": [],
      "authorship_tag": "ABX9TyOutEI/looZ6wASWWaucgJN",
      "include_colab_link": true
    },
    "kernelspec": {
      "name": "python3",
      "display_name": "Python 3"
    },
    "language_info": {
      "name": "python"
    }
  },
  "cells": [
    {
      "cell_type": "markdown",
      "metadata": {
        "id": "view-in-github",
        "colab_type": "text"
      },
      "source": [
        "<a href=\"https://colab.research.google.com/github/xavi447/PrograIII_Semi_2025/blob/main/introduccion_phyton.ipynb\" target=\"_parent\"><img src=\"https://colab.research.google.com/assets/colab-badge.svg\" alt=\"Open In Colab\"/></a>"
      ]
    },
    {
      "cell_type": "code",
      "execution_count": null,
      "metadata": {
        "colab": {
          "base_uri": "https://localhost:8080/"
        },
        "id": "P7ssM0rocB2U",
        "outputId": "bd9b70de-7dd2-4947-c146-148128ae5c78"
      },
      "outputs": [
        {
          "output_type": "stream",
          "name": "stdout",
          "text": [
            "Hola mundo!\n",
            "Bienvenidos a la clase de programacion computacional III\n"
          ]
        }
      ],
      "source": [
        "print(\"Hola mundo!\")\n",
        "print(\"Bienvenidos a la clase de programacion computacional III\")"
      ]
    },
    {
      "cell_type": "code",
      "source": [
        "nombre = \"Javier Romero\"\n",
        "edad = 20\n",
        "print(nombre, edad)\n",
        "\n",
        "edad = \"veinte\"\n",
        "print(\"tu edad: \", edad)"
      ],
      "metadata": {
        "colab": {
          "base_uri": "https://localhost:8080/"
        },
        "id": "Gdg92uovdLq0",
        "outputId": "77cf2b67-c5da-477b-8bbf-d3326f551829"
      },
      "execution_count": null,
      "outputs": [
        {
          "output_type": "stream",
          "name": "stdout",
          "text": [
            "Javier Romero 20\n",
            "tu edad:  veinte\n"
          ]
        }
      ]
    },
    {
      "cell_type": "code",
      "source": [
        "num1 = 7\n",
        "num2= 6.5\n",
        "suma = num1 + num2\n",
        "print(\"La suma es:\", suma)"
      ],
      "metadata": {
        "colab": {
          "base_uri": "https://localhost:8080/"
        },
        "id": "yyMbr0Lhe5-U",
        "outputId": "0b41ca59-796b-4daa-836f-f7e6c26cde34"
      },
      "execution_count": null,
      "outputs": [
        {
          "output_type": "stream",
          "name": "stdout",
          "text": [
            "La suma es: 13.5\n"
          ]
        }
      ]
    },
    {
      "cell_type": "code",
      "source": [
        "num1 = float (input(\"Num1: \"))\n",
        "num2 = float (input(\"Num2: \"))\n",
        "suma = num1 + num2\n",
        "print(\"La suma es: \", suma)"
      ],
      "metadata": {
        "colab": {
          "base_uri": "https://localhost:8080/"
        },
        "id": "U3mBlEsgfeVX",
        "outputId": "4fd21d1c-3af0-49c6-ecc1-062d6ae5335c"
      },
      "execution_count": null,
      "outputs": [
        {
          "output_type": "stream",
          "name": "stdout",
          "text": [
            "Num1: 20\n",
            "Num2: 13\n",
            "La suma es:  33.0\n"
          ]
        }
      ]
    },
    {
      "cell_type": "code",
      "source": [
        "num1 = float(input(\"Num1: \"))\n",
        "num2 = float(input(\"Num2: \"))\n",
        "resta = num1 - num2\n",
        "print(\"La resta es: \", resta)"
      ],
      "metadata": {
        "colab": {
          "base_uri": "https://localhost:8080/"
        },
        "id": "55mS1Dl3hwm8",
        "outputId": "cb50d532-72ef-45c1-c898-6348bdcf98a5"
      },
      "execution_count": null,
      "outputs": [
        {
          "output_type": "stream",
          "name": "stdout",
          "text": [
            "Num1: 3\n",
            "Num2: 3\n",
            "La resta es:  0.0\n"
          ]
        }
      ]
    },
    {
      "cell_type": "markdown",
      "source": [
        "TIPOS DE DATOS EN PYTHON"
      ],
      "metadata": {
        "id": "9Jrbpv9hMj8J"
      }
    },
    {
      "cell_type": "code",
      "source": [
        "# entero\n",
        "num1 = 6\n",
        "print (str(num1) + \" Esto es un numero entero\")\n",
        "\n",
        "#Decimal\n",
        "num2 = 7.5\n",
        "print(num2, \"Esto es un numero decimal\")\n",
        "\n",
        "#Boolenao\n",
        "esMayor = True\n",
        "print(esMayor, \"Esto es un booleano\")\n",
        "\n",
        "#Cadena\n",
        "nombre = \"Javier Romero\"\n",
        "print(nombre, \"Esto es una cadena\")\n",
        "print(nombre, \"Letra inicial:\", nombre[0],\"Un valor en especifico:\", nombre[5], \"rango:\", nombre[0:6],\"Comenzar desde el final:\", nombre[-1])\n",
        "\n",
        "#Fecha\n",
        "from datetime import datetime, date, time\n",
        "fecha = datetime.now()\n",
        "print(fecha, fecha.date(), fecha.time())\n",
        "print(type(fecha))\n",
        "\n",
        "\n",
        "fechaPersonalizada = date(2025,8,1)\n",
        "print(fechaPersonalizada)\n",
        "\n"
      ],
      "metadata": {
        "colab": {
          "base_uri": "https://localhost:8080/"
        },
        "id": "s5ONouDjMsnL",
        "outputId": "32ef4956-41be-4983-a526-47d8b8eec734"
      },
      "execution_count": null,
      "outputs": [
        {
          "output_type": "stream",
          "name": "stdout",
          "text": [
            "6 Esto es un numero entero\n",
            "7.5 Esto es un numero decimal\n",
            "True Esto es un booleano\n",
            "Javier Romero Esto es una cadena\n",
            "Javier Romero Letra inicial: J Un valor en especifico: r rango: Javier Comenzar desde el final: o\n",
            "2025-07-28 14:09:48.340174 2025-07-28 14:09:48.340174\n",
            "<class 'datetime.datetime'>\n",
            "2025-08-01\n"
          ]
        }
      ]
    },
    {
      "cell_type": "markdown",
      "source": [
        "FUNCIONES EN PYTHON"
      ],
      "metadata": {
        "id": "CN_qRkifagX6"
      }
    },
    {
      "cell_type": "code",
      "source": [
        "#Suma\n",
        "def suma(num1, num2):\n",
        "    return num1 + num2"
      ],
      "metadata": {
        "id": "0MZuf1LUal9S"
      },
      "execution_count": null,
      "outputs": []
    },
    {
      "cell_type": "code",
      "source": [
        "print( \"la suma de 5 + 8 es: \", suma(5,8))"
      ],
      "metadata": {
        "colab": {
          "base_uri": "https://localhost:8080/"
        },
        "id": "jyR-vW4rbhWS",
        "outputId": "c39a6209-b1c9-4843-8d76-5379a09a8f32"
      },
      "execution_count": null,
      "outputs": [
        {
          "output_type": "stream",
          "name": "stdout",
          "text": [
            "la suma de 5 + 8 es:  13\n"
          ]
        }
      ]
    },
    {
      "cell_type": "code",
      "source": [
        "num1 = float(input(\"Num1: \"))\n",
        "num2 = float(input(\"Num2: \"))\n",
        "respuesta = suma(num1, num2)\n",
        "print(\"La suma es: \", respuesta)"
      ],
      "metadata": {
        "colab": {
          "base_uri": "https://localhost:8080/"
        },
        "id": "8dbOm6dechnC",
        "outputId": "cd6df081-5428-4501-ae1e-cb8870d04822"
      },
      "execution_count": null,
      "outputs": [
        {
          "output_type": "stream",
          "name": "stdout",
          "text": [
            "Num1: 4\n",
            "Num2: 6\n",
            "La suma es:  10.0\n"
          ]
        }
      ]
    },
    {
      "cell_type": "markdown",
      "source": [
        "TAREA"
      ],
      "metadata": {
        "id": "pZYHGDORvfa7"
      }
    },
    {
      "cell_type": "code",
      "source": [
        "#Resta\n",
        "def resta(num1, num2):\n",
        "    return num1 - num2"
      ],
      "metadata": {
        "id": "kFmjmtHhvjU9"
      },
      "execution_count": null,
      "outputs": []
    },
    {
      "cell_type": "code",
      "source": [
        "print( \"la resta de 5 - 8 es: \", resta(5,8))"
      ],
      "metadata": {
        "colab": {
          "base_uri": "https://localhost:8080/"
        },
        "id": "2Ub_rnMavpz8",
        "outputId": "1ed202d9-fff7-4213-c859-2241adc0e7a9"
      },
      "execution_count": null,
      "outputs": [
        {
          "output_type": "stream",
          "name": "stdout",
          "text": [
            "la resta de 5 - 8 es:  -3\n"
          ]
        }
      ]
    },
    {
      "cell_type": "code",
      "source": [
        "num1 = float(input(\"Num1: \"))\n",
        "num2 = float(input(\"Num2: \"))\n",
        "respuesta = resta(num1, num2)\n",
        "print(\"La resta es: \", respuesta)"
      ],
      "metadata": {
        "colab": {
          "base_uri": "https://localhost:8080/"
        },
        "id": "FxIKCkYBv1NL",
        "outputId": "82ce0333-74bf-4d03-9415-908b1687b477"
      },
      "execution_count": null,
      "outputs": [
        {
          "output_type": "stream",
          "name": "stdout",
          "text": [
            "Num1: 6\n",
            "Num2: 3\n",
            "La resta es:  3.0\n"
          ]
        }
      ]
    },
    {
      "cell_type": "code",
      "source": [
        "#Haser un ejercicio en python haciendo uso de funciones de usuario, que convierta grados celcius a farenheit\n",
        "def celciusFarenheit(c):\n",
        "    return c * 1.8 + 32"
      ],
      "metadata": {
        "id": "5EWFKRheVDpt"
      },
      "execution_count": null,
      "outputs": []
    },
    {
      "cell_type": "code",
      "source": [
        "c = int(input(\"Grados c: \"))\n",
        "r = celciusFarenheit(c)\n",
        "print(\"F:\", r)"
      ],
      "metadata": {
        "colab": {
          "base_uri": "https://localhost:8080/"
        },
        "id": "zCjrK-WMXT6s",
        "outputId": "734d43ac-5618-40e7-8bb0-119f9fbd3399"
      },
      "execution_count": null,
      "outputs": [
        {
          "output_type": "stream",
          "name": "stdout",
          "text": [
            "Grados c: 38\n",
            "F: 100.4\n"
          ]
        }
      ]
    },
    {
      "cell_type": "code",
      "source": [
        "#Haser un ejercicio en python haciendo uso de funciones de usuario, que convierta grados farenheit a celcius\n",
        "def farenheitCelcius(f):\n",
        "    return (f - 32) * 5/9"
      ],
      "metadata": {
        "id": "BK_J0LMvZbNT"
      },
      "execution_count": null,
      "outputs": []
    },
    {
      "cell_type": "code",
      "source": [
        "f = float(input(\"Grados F: \"))\n",
        "r = farenheitCelcius(f)\n",
        "print(\"C: \", r)"
      ],
      "metadata": {
        "colab": {
          "base_uri": "https://localhost:8080/"
        },
        "id": "zdOaopVwZ0mI",
        "outputId": "0822c561-6da4-49d8-ab33-7adb179c0ab9"
      },
      "execution_count": null,
      "outputs": [
        {
          "output_type": "stream",
          "name": "stdout",
          "text": [
            "Grados F: 32\n",
            "C:  0.0\n"
          ]
        }
      ]
    },
    {
      "cell_type": "code",
      "source": [
        "#Haser un ejercicio en python haciendo uso de funciones de usuario, que convierta grados celcius a kelv\n",
        "def celciusKelvin(c):\n",
        "  return (c + 273.15)"
      ],
      "metadata": {
        "id": "tzCdRKtre3O9"
      },
      "execution_count": null,
      "outputs": []
    },
    {
      "cell_type": "code",
      "source": [
        "c = float(input(\"Grados C: \"))\n",
        "r = celciusKelvin(c)\n",
        "print(\"K: \", r)"
      ],
      "metadata": {
        "colab": {
          "base_uri": "https://localhost:8080/"
        },
        "id": "8N6yiKbPfgPA",
        "outputId": "369d613b-094a-47d0-99d6-31a79c0ac8ef"
      },
      "execution_count": null,
      "outputs": [
        {
          "output_type": "stream",
          "name": "stdout",
          "text": [
            "Grados C: 0\n",
            "K:  273.15\n"
          ]
        }
      ]
    },
    {
      "cell_type": "code",
      "source": [
        "# #Haser un ejercicio en python haciendo uso de funciones de usuario, que calcule el sueldo de un empleado segun el numero de horas trabajadas y el valor por hora\n",
        "def sueldo(numHoras, valorHora):\n",
        "    sueldo = numHoras * valorHora * 30\n",
        "    return sueldo\n",
        "\n",
        "\n"
      ],
      "metadata": {
        "id": "kPioiZY1hd90"
      },
      "execution_count": null,
      "outputs": []
    },
    {
      "cell_type": "code",
      "source": [
        "numHoras = float(input(\"Horas trabajadas: \"))\n",
        "valorHora = float(input(\"Valor por hora: \"))\n",
        "r = sueldo(numHoras, valorHora)\n",
        "print(\"Sueldo: \", r)"
      ],
      "metadata": {
        "colab": {
          "base_uri": "https://localhost:8080/"
        },
        "id": "klxC1j-TiiCt",
        "outputId": "a2c8782f-b9fc-443a-d713-5144160597a1"
      },
      "execution_count": null,
      "outputs": [
        {
          "output_type": "stream",
          "name": "stdout",
          "text": [
            "Horas trabajadas: 8\n",
            "Valor por hora: 10\n",
            "Sueldo:  2400.0\n"
          ]
        }
      ]
    },
    {
      "cell_type": "code",
      "source": [
        "## #Haser un ejercicio en python haciendo uso de funciones de usuario, que permita elevar un umero a un exponente\n",
        "def elevar(base, exponente):\n",
        "    return base ** exponente\n"
      ],
      "metadata": {
        "id": "RAvqR9m3jzgN"
      },
      "execution_count": null,
      "outputs": []
    },
    {
      "cell_type": "code",
      "source": [
        "b = float(input(\"Base: \"))\n",
        "e = float(input(\"Exponente: \"))\n",
        "r = elevar(b, e)\n",
        "print(\"el numero: \", b,\" elevando al \",e,\"da como resultado:\", r)"
      ],
      "metadata": {
        "colab": {
          "base_uri": "https://localhost:8080/"
        },
        "id": "8dINn09IkG3U",
        "outputId": "963bc1c1-671a-48fc-ed82-f75f712ed19f"
      },
      "execution_count": null,
      "outputs": [
        {
          "output_type": "stream",
          "name": "stdout",
          "text": [
            "Base: 2\n",
            "Exponente: 2\n",
            "el numero:  2.0  elevando al  2.0 da como resultado: 4.0\n"
          ]
        }
      ]
    },
    {
      "cell_type": "markdown",
      "source": [
        "Uso de funcion Reduse"
      ],
      "metadata": {
        "id": "gb2Z0_yVsPwU"
      }
    },
    {
      "cell_type": "code",
      "source": [
        "from functools import reduce\n",
        "\n",
        "numeros = [5,4,9,6,8,2,3]\n",
        "suma = reduce (lambda acum, num: acum + num, numeros)\n",
        "sumaPares = reduce (lambda acum, num: acum + num if num % 2 == 0 else acum, numeros,0)\n",
        "\n",
        "print(\"La suma es: \",suma)\n",
        "print(\"La suma de los pares es: \",sumaPares)\n",
        "print(\"Suma pares: \", sumaPares)\n",
        "\n",
        "#"
      ],
      "metadata": {
        "id": "s-HzEbio0mDE",
        "colab": {
          "base_uri": "https://localhost:8080/"
        },
        "outputId": "de3564cf-4063-4657-d38c-f573cf06e9aa"
      },
      "execution_count": null,
      "outputs": [
        {
          "output_type": "stream",
          "name": "stdout",
          "text": [
            "La suma es:  37\n",
            "La suma de los pares es:  20\n",
            "Suma pares:  20\n"
          ]
        }
      ]
    },
    {
      "cell_type": "markdown",
      "source": [
        "TUPLAS"
      ],
      "metadata": {
        "id": "fb9BCVMDwnRE"
      }
    },
    {
      "cell_type": "code",
      "source": [
        "tupla = (1,2,3,7,8,9)\n",
        "print(\"Tupla: \", tupla, \"Primer elemento:\", tupla[0], \"El numero 5 parece:\", tupla.count(1))\n",
        "print(\"Ultimo elemento: \", tupla[-1])\n",
        "print(\"Rango: \", tupla[0:3])"
      ],
      "metadata": {
        "colab": {
          "base_uri": "https://localhost:8080/"
        },
        "id": "xRFRlNPwwppc",
        "outputId": "717bc42b-a072-4802-920d-f7dca93a76cc"
      },
      "execution_count": null,
      "outputs": [
        {
          "output_type": "stream",
          "name": "stdout",
          "text": [
            "Tupla:  (1, 2, 3, 7, 8, 9) Primer elemento: 1 El numero 5 parece: 1\n",
            "Ultimo elemento:  9\n",
            "Rango:  (1, 2, 3)\n"
          ]
        }
      ]
    },
    {
      "cell_type": "code",
      "source": [
        "import datetime\n",
        "fecha = datetime.date.today()\n",
        "\n",
        "semana = (\"Lunes\", \"Martes\", \"Miercoles\", \"Jueves\", \"Viernes\", \"Sabado\", \"Domingo\")\n",
        "meses = (\"Enero\", \"Febrero\", \"Marzo\", \"Abril\", \"Mayo\", \"Junio\", \"Julio\", \"Agosto\", \"Septiembre\", \"Octubre\", \"Noviembre\", \"Diciembre\")\n",
        "dia = fecha.day\n",
        "mes = fecha.month\n",
        "year = fecha.year\n",
        "diaSemana = semana[fecha.isoweekday()]\n",
        "\n",
        "print(diaSemana, dia, \"de\", meses[mes], \"del\", year)\n",
        "print(fecha, fecha.isoweekday(), diaSemana)\n",
        "print(dia, mes, year)"
      ],
      "metadata": {
        "colab": {
          "base_uri": "https://localhost:8080/"
        },
        "id": "SlzAqVZf1Lz5",
        "outputId": "59e4374f-9196-462d-8aab-7bb777e6ba3d"
      },
      "execution_count": null,
      "outputs": [
        {
          "output_type": "stream",
          "name": "stdout",
          "text": [
            "Miercoles 12 de Septiembre del 2025\n",
            "2025-08-12 2 Miercoles\n",
            "12 8 2025\n"
          ]
        }
      ]
    },
    {
      "cell_type": "markdown",
      "source": [
        "LISTAS"
      ],
      "metadata": {
        "id": "Oo2RJlGs3nxQ"
      }
    },
    {
      "cell_type": "code",
      "source": [
        "lista = [5,8,9,4,\"Progra III\", True, [4,8,9,[8,9,4]]]\n",
        "print(lista)"
      ],
      "metadata": {
        "colab": {
          "base_uri": "https://localhost:8080/"
        },
        "id": "jGjXbRO73pQQ",
        "outputId": "77dd2e8c-d617-439d-92a8-99f6c17b6cf6"
      },
      "execution_count": null,
      "outputs": [
        {
          "output_type": "stream",
          "name": "stdout",
          "text": [
            "[5, 8, 9, 4, 'Progra III', True, [4, 8, 9, [8, 9, 4]]]\n"
          ]
        }
      ]
    },
    {
      "cell_type": "code",
      "source": [
        "def calcularPromedio(nota, notas):\n",
        "  return notas[1]*notas[2] + nota # 8*0.3 + 9*0.3 + 10*0.3"
      ],
      "metadata": {
        "id": "lAsPRZjA5NtE"
      },
      "execution_count": null,
      "outputs": []
    },
    {
      "cell_type": "code",
      "source": [
        "#Hacer un ejercicio en python que obtenga la nota final de Progra III del computo I, haciendo uso de las listas y de las funciones.\n",
        "from functools import reduce\n",
        "#estudiante...\n",
        "notas = [\n",
        "    [\"Lab1\", 10, 0.3],\n",
        "    [\"Lab2\", 10, 0.3],\n",
        "    [\"Parcial1\", 10, 0.4],\n",
        "\n",
        "    [\"Lab1\", 10, 0.3],\n",
        "    [\"Lab2\", 10, 0.3],\n",
        "    [\"Parcial2\", 10, 0.4],\n",
        "\n",
        "    [\"Lab1\", 10, 0.3],\n",
        "    [\"Lab2\", 10, 0.3],\n",
        "    [\"Parcial3\", 10, 0.4]\n",
        "  ]\n",
        "prom = reduce(calcularPromedio, notas, 0)\n",
        "nf = prom / 3\n",
        "print(\"Nota Final de Progra III: \", nf)"
      ],
      "metadata": {
        "colab": {
          "base_uri": "https://localhost:8080/"
        },
        "id": "m5Ki8fgGyJrp",
        "outputId": "988da902-18c9-4999-a13f-6f5eb34825e0"
      },
      "execution_count": null,
      "outputs": [
        {
          "output_type": "stream",
          "name": "stdout",
          "text": [
            "Nota Final de Progra III:  10.0\n"
          ]
        }
      ]
    },
    {
      "cell_type": "markdown",
      "source": [
        "El usuario ingresa sus notas"
      ],
      "metadata": {
        "id": "49Z0JgxvzsFT"
      }
    },
    {
      "cell_type": "code",
      "source": [
        "#Hacer un ejercicio en python que obtenga la nota final de Progra III del computo I,\n",
        "#donde el usuario va introducir las notas, haciendo uso de las listas y de las funciones.\n",
        "from functools import reduce\n",
        "\n",
        "notas = []\n",
        "for i in range(1,4):\n",
        "  nota = float(input(\"Act: \"+ str(i) + \": \"))\n",
        "  porcentaje = float(input(\"Porcentaje: \"))\n",
        "  notas.append([\"Act. \"+ str(i), nota, porcentaje])\n",
        "\n",
        "prom = reduce(calcularPromedio, notas, 0)\n",
        "print(\"Nota Final de C1 \", prom)"
      ],
      "metadata": {
        "colab": {
          "base_uri": "https://localhost:8080/"
        },
        "id": "P7wMnTiFzv7r",
        "outputId": "87bc5df2-a1bc-474c-8aa9-8b8f33ab939c"
      },
      "execution_count": null,
      "outputs": [
        {
          "output_type": "stream",
          "name": "stdout",
          "text": [
            "Act: 1: 9\n",
            "Porcentaje: 0.3\n",
            "Act: 2: 6\n",
            "Porcentaje: 0.3\n",
            "Act: 3: 7\n",
            "Porcentaje: 0.4\n",
            "Nota Final de C1  7.300000000000001\n"
          ]
        }
      ]
    },
    {
      "cell_type": "code",
      "source": [
        "#sort\n",
        "valores = [5,8,9,1,3,4,7]\n",
        "\n",
        "print(valores, \"Lista original\")\n",
        "\n",
        "valores.sort()\n",
        "print(valores, \"POrdenados de menor a mayor\")\n",
        "\n",
        "valores.reverse()\n",
        "print(valores, \"Ordenados de mayor a menor\")\n",
        "\n",
        "#valores.sort(reverse=True)\n",
        "#print(valores, \"Ordenados de mayor a menor\")"
      ],
      "metadata": {
        "colab": {
          "base_uri": "https://localhost:8080/"
        },
        "id": "AlF_UrXT0WFQ",
        "outputId": "176b4cdb-285b-4f7f-e77c-ae18031b77fb"
      },
      "execution_count": null,
      "outputs": [
        {
          "output_type": "stream",
          "name": "stdout",
          "text": [
            "[5, 8, 9, 1, 3, 4, 7] Lista original\n",
            "[1, 3, 4, 5, 7, 8, 9] POrdenados de menor a mayor\n",
            "[9, 8, 7, 5, 4, 3, 1] Ordenados de mayor a menor\n"
          ]
        }
      ]
    },
    {
      "cell_type": "markdown",
      "source": [
        "DICCIONARIOS JSON"
      ],
      "metadata": {
        "id": "AmMmrMmr0iRf"
      }
    },
    {
      "cell_type": "code",
      "source": [
        "persona = {\n",
        "  \"codigo\": \"USSS006224\",\n",
        "  \"nombre\": \"Javier Romero\",\n",
        "  \"materias\": [\n",
        "    {\n",
        "      \"codigo\": 611,\n",
        "      \"nombre\": \"Programacion I\",\n",
        "      \"notas\":{\n",
        "        \"c1\": {\"lab1\":8, \"lab2\":9.9, \"parcial\":10},\n",
        "        \"c2\": {\"lab1\":7.78, \"lab2\":6.5, \"parcial\":8},\n",
        "        \"c3\": {\"lab1\":10, \"lab2\":9, \"parcial\":9}\n",
        "      }\n",
        "    },\n",
        "    {\n",
        "      \"codigo\": 612,\n",
        "      \"nombre\": \"Programacion II\",\n",
        "      \"notas\":{\n",
        "        \"c1\": {\"lab1\":5, \"lab2\": 7, \"parcial\":9},\n",
        "        \"c2\": {\"lab1\":9, \"lab2\": 6, \"parcial\": 10},\n",
        "        \"c3\": {\"lab1\":10, \"lab2\": 10, \"parcial\": 9}\n",
        "      }\n",
        "    }\n",
        "  ]\n",
        "}\n",
        "print(persona[\"nombre\"], \"->\", persona[\"materias\"][0][\"nombre\"], \"-> CI: \",\n",
        "      persona[\"materias\"][0][\"notas\"][\"c1\"],\n",
        "      persona[\"materias\"][0][\"notas\"][\"c1\"][\"lab1\"]\n",
        "      )"
      ],
      "metadata": {
        "colab": {
          "base_uri": "https://localhost:8080/"
        },
        "id": "H7diOLfY0o20",
        "outputId": "790d2f43-ea4c-4572-84e9-1a8ca61a8dff"
      },
      "execution_count": null,
      "outputs": [
        {
          "output_type": "stream",
          "name": "stdout",
          "text": [
            "Javier Romero -> Programacion I -> CI:  {'lab1': 8, 'lab2': 9.9, 'parcial': 10} 8\n"
          ]
        }
      ]
    },
    {
      "cell_type": "markdown",
      "source": [
        "ESTRUCTURAS DE CONTROL\n"
      ],
      "metadata": {
        "id": "O4b3VaLE1Os5"
      }
    },
    {
      "cell_type": "code",
      "source": [
        "#if\n",
        "#hacer un ejercicio en python que permita clasificar las edades segun su rango\n",
        "edad = int(input(\"Edad: \"))\n",
        "if(edad<0):\n",
        "  print(\"Error al ingresar la edad, solo valores positivos.\")\n",
        "elif(edad<=2):\n",
        "  print(\"Eres un bebe...\")\n",
        "elif(edad<=11):\n",
        "  print(\"Eres un niño...\")\n",
        "elif(edad<18):\n",
        "  print(\"Eres un adolescente...\")\n",
        "elif(edad<65):\n",
        "  print(\"Eres un adulto responsable...\")\n",
        "elif(edad<85):\n",
        "  print(\"Eres un adulto mayor...\")\n",
        "else:\n",
        "  print(\"Larga vida...\")\n"
      ],
      "metadata": {
        "colab": {
          "base_uri": "https://localhost:8080/"
        },
        "id": "ImQeAVMx1SOn",
        "outputId": "6a2ea7e3-57a8-4529-931e-11678fd7d53f"
      },
      "execution_count": null,
      "outputs": [
        {
          "output_type": "stream",
          "name": "stdout",
          "text": [
            "Edad: 100\n",
            "Larga vida...\n"
          ]
        }
      ]
    },
    {
      "cell_type": "markdown",
      "source": [
        "LAB2 C1"
      ],
      "metadata": {
        "id": "xvQ3Y20R2oi5"
      }
    },
    {
      "cell_type": "code",
      "source": [
        "def calcularSueldoNeto():\n",
        "    salario_nominal = float(input(\"Ingresa el salario nominal: \"))\n",
        "    tasa_isss = 0.03\n",
        "    tasa_afp = 0.0625\n",
        "    descuento_isss = salario_nominal * tasa_isss\n",
        "    descuento_afp = salario_nominal * tasa_afp\n",
        "    renta_neta = salario_nominal - (descuento_isss + descuento_afp)\n",
        "    descuento_isr = 0\n",
        "\n",
        "    if renta_neta <= 472.00:\n",
        "        descuento_isr = 0\n",
        "    elif renta_neta <= 895.24:\n",
        "        exceso = renta_neta - 472.00\n",
        "        descuento_isr = exceso * 0.10 + 17.67\n",
        "    elif renta_neta <= 2038.10:\n",
        "        exceso = renta_neta - 895.24\n",
        "        descuento_isr = exceso * 0.20 + 60.00\n",
        "    else:\n",
        "        exceso = renta_neta - 2038.10\n",
        "        descuento_isr = exceso * 0.30 + 288.57\n",
        "\n",
        "    total_deducciones = descuento_isss + descuento_afp + descuento_isr\n",
        "    sueldo_neto = salario_nominal - total_deducciones\n",
        "\n",
        "    print(\"Salario Nominal:\", salario_nominal)\n",
        "    print(\"Descuento ISSS:\", descuento_isss)\n",
        "    print(\"Descuento AFP:\", descuento_afp)\n",
        "    print(\"Descuento ISR:\", descuento_isr)\n",
        "    print(\"Total de deducciones:\", total_deducciones)\n",
        "    print(\"Sueldo Neto:\", sueldo_neto)\n",
        "\n",
        "calcularSueldoNeto()"
      ],
      "metadata": {
        "colab": {
          "base_uri": "https://localhost:8080/"
        },
        "id": "YshNVaLA2qZB",
        "outputId": "2d31a1fd-6888-4651-afb8-dfb7e1772361"
      },
      "execution_count": 1,
      "outputs": [
        {
          "output_type": "stream",
          "name": "stdout",
          "text": [
            "Ingresa el salario nominal: 100\n",
            "Salario Nominal: 100.0\n",
            "Descuento ISSS: 3.0\n",
            "Descuento AFP: 6.25\n",
            "Descuento ISR: 0\n",
            "Total de deducciones: 9.25\n",
            "Sueldo Neto: 90.75\n"
          ]
        }
      ]
    },
    {
      "cell_type": "markdown",
      "source": [
        "Calcular valor a pagar segun numero de metros consumidos de agua"
      ],
      "metadata": {
        "id": "4shTy0IF83Fr"
      }
    },
    {
      "cell_type": "code",
      "source": [
        "def calcularTarifaAgua():\n",
        "    metros_consumidos = float(input(\"¿Cuántos metros de agua consumiste? \"))\n",
        "    costo_total = 0\n",
        "\n",
        "    if metros_consumidos <= 18:\n",
        "        costo_total = 6.00\n",
        "    elif metros_consumidos <= 28:\n",
        "        exceso = metros_consumidos - 18\n",
        "        costo_total = 6.00 + (exceso * 0.45)\n",
        "    else:\n",
        "        costo_primeros_18 = 6.00\n",
        "        costo_siguientes_10 = 10 * 0.45\n",
        "        exceso = metros_consumidos - 28\n",
        "        costo_exceso = exceso * 0.65\n",
        "        costo_total = costo_primeros_18 + costo_siguientes_10 + costo_exceso\n",
        "\n",
        "    print(\"El costo total a pagar es: $\", costo_total)\n",
        "\n",
        "calcularTarifaAgua()"
      ],
      "metadata": {
        "colab": {
          "base_uri": "https://localhost:8080/"
        },
        "id": "7rk1CLVu9AW0",
        "outputId": "9fce1796-b23a-498c-bec4-7cb0c6ff8e9b"
      },
      "execution_count": null,
      "outputs": [
        {
          "output_type": "stream",
          "name": "stdout",
          "text": [
            "¿Cuántos metros de agua consumiste? 38\n",
            "El costo total a pagar es: $ 17.0\n"
          ]
        }
      ]
    },
    {
      "cell_type": "markdown",
      "source": [
        "Calcular acumulado de meses"
      ],
      "metadata": {
        "id": "I9iFiyVy-sxo"
      }
    },
    {
      "cell_type": "code",
      "source": [
        "def calcularMesesAcumulados():\n",
        "    meses = int(input(\"Ingresa el número de meses a acumular: \"))\n",
        "\n",
        "    acumulado = 0\n",
        "\n",
        "    for mes in range(1, meses + 1):\n",
        "        acumulado = acumulado + mes\n",
        "\n",
        "    print(\"El acumulado de\", meses, \"meses es:\", acumulado)\n",
        "\n",
        "calcularMesesAcumulados()"
      ],
      "metadata": {
        "colab": {
          "base_uri": "https://localhost:8080/"
        },
        "id": "1X_X5q1V-vOP",
        "outputId": "ff037ccd-f146-4db6-a9f8-9d074eeb01d5"
      },
      "execution_count": null,
      "outputs": [
        {
          "output_type": "stream",
          "name": "stdout",
          "text": [
            "Ingresa el número de meses a acumular: 7\n",
            "El acumulado de 7 meses es: 28\n"
          ]
        }
      ]
    },
    {
      "cell_type": "markdown",
      "source": [
        "Conversor de unidades"
      ],
      "metadata": {
        "id": "J_fd7rM1D6kD"
      }
    },
    {
      "cell_type": "code",
      "source": [
        "def conversor_universal(nombre_tipo, tasas):\n",
        "    print(f\"\\n*** Conversor de {nombre_tipo.capitalize()} ***\")\n",
        "\n",
        "    unidades_disponibles = list(tasas.keys())\n",
        "\n",
        "    print(\"Unidades disponibles:\")\n",
        "    for i, unidad in enumerate(unidades_disponibles, 1):\n",
        "        print(f\"{i}. {unidad}\")\n",
        "\n",
        "    try:\n",
        "        opcion_origen = int(input(\"Selecciona la unidad de origen: \")) - 1\n",
        "        opcion_destino = int(input(\"Selecciona la unidad de destino: \")) - 1\n",
        "\n",
        "        if 0 <= opcion_origen < len(unidades_disponibles) and 0 <= opcion_destino < len(unidades_disponibles):\n",
        "            unidad_origen = unidades_disponibles[opcion_origen]\n",
        "            unidad_destino = unidades_disponibles[opcion_destino]\n",
        "\n",
        "            valor = float(input(f\"Ingresa el valor en {unidad_origen}: \"))\n",
        "\n",
        "            valor_en_base = valor / tasas[unidad_origen]\n",
        "            resultado = valor_en_base * tasas[unidad_destino]\n",
        "\n",
        "            print(f\"{valor} {unidad_origen} equivale a {resultado} {unidad_destino}\")\n",
        "        else:\n",
        "            print(\"Opción no válida. Inténtalo de nuevo.\")\n",
        "    except (ValueError, IndexError):\n",
        "        print(\"Entrada no válida. Por favor, ingresa un número.\")\n",
        "\n",
        "def Cmonedas():\n",
        "    tasas = {\n",
        "        \"Dólar\": 1, \"Euro\": 0.92, \"Libra Esterlina\": 0.79, \"Yen Japonés\": 140.00,\n",
        "        \"Dólar Canadiense\": 1.35, \"Peso Mexicano\": 17.15, \"Peso Chileno\": 950.00,\n",
        "        \"Peso Argentino\": 870.00, \"Peso Colombiano\": 4000.00, \"Real Brasileño\": 5.20\n",
        "    }\n",
        "    conversor_universal(\"monedas\", tasas)\n",
        "\n",
        "def Cmasa():\n",
        "    tasas = {\n",
        "        \"Kilogramo\": 1, \"Gramo\": 1000, \"Miligramo\": 1000000, \"Libra\": 2.20462, \"Onza\": 35.274,\n",
        "        \"Tonelada\": 0.001, \"Stone\": 0.157473, \"Quilate\": 5000, \"Dram\": 564.383, \"Grain\": 15432.4\n",
        "    }\n",
        "    conversor_universal(\"masa\", tasas)\n",
        "\n",
        "def Cvolumen():\n",
        "    tasas = {\n",
        "        \"Litro\": 1, \"Mililitro\": 1000, \"Galón\": 0.264172, \"Cuarto\": 1.05669, \"Pinta\": 2.11338,\n",
        "        \"Taza\": 4.22675, \"Metro Cúbico\": 0.001, \"Pie Cúbico\": 0.0353147, \"Pulgada Cúbica\": 61.0237,\n",
        "        \"Onza Fluida\": 33.814\n",
        "    }\n",
        "    conversor_universal(\"volumen\", tasas)\n",
        "\n",
        "def Clongitud():\n",
        "    tasas = {\n",
        "        \"Metro\": 1, \"Kilómetro\": 0.001, \"Centímetro\": 100, \"Milímetro\": 1000,\n",
        "        \"Yarda\": 1.09361, \"Pie\": 3.28084, \"Pulgada\": 39.3701, \"Milla\": 0.000621371\n",
        "    }\n",
        "    conversor_universal(\"longitud\", tasas)\n",
        "\n",
        "def Calmacenamiento():\n",
        "    tasas = {\n",
        "        \"Byte\": 1, \"Kilobyte\": 0.0009765625, \"Megabyte\": 9.53674e-07, \"Gigabyte\": 9.31323e-10,\n",
        "        \"Terabyte\": 9.09495e-13, \"Petabyte\": 8.88178e-16, \"Exabyte\": 8.67362e-19,\n",
        "        \"Zettabyte\": 8.47033e-22, \"Yottabyte\": 8.27181e-25, \"Brontobyte\": 8.07794e-28\n",
        "    }\n",
        "    conversor_universal(\"almacenamiento\", tasas)\n",
        "\n",
        "def Ctiempo():\n",
        "    tasas = {\n",
        "        \"Segundo\": 1, \"Minuto\": 0.0166667, \"Hora\": 0.000277778, \"Día\": 1.15741e-05,\n",
        "        \"Semana\": 1.65344e-06, \"Mes\": 3.80517e-07, \"Año\": 3.17098e-08,\n",
        "        \"Década\": 3.17098e-09, \"Siglo\": 3.17098e-10, \"Milenio\": 3.17098e-11\n",
        "    }\n",
        "    conversor_universal(\"tiempo\", tasas)\n",
        "\n",
        "def Carea():\n",
        "    tasas = {\n",
        "        \"Metro Cuadrado\": 1, \"Kilómetro Cuadrado\": 0.000001, \"Hectárea\": 0.0001, \"Pie Cuadrado\": 10.7639,\n",
        "        \"Centímetro Cuadrado\": 10000, \"Milla Cuadrada\": 3.86102e-07, \"Acre\": 0.000247105,\n",
        "        \"Yarda Cuadrada\": 1.19599, \"Manzana\": 0.000142857, \"Tarea\": 0.0022857\n",
        "    }\n",
        "    conversor_universal(\"area\", tasas)\n",
        "\n",
        "def menu_principal():\n",
        "    while True:\n",
        "        print(\"\\n***Menu de opciones***\")\n",
        "        print(\"1. Conversión de monedas\")\n",
        "        print(\"2. Conversión de masas\")\n",
        "        print(\"3. Conversión de volumen\")\n",
        "        print(\"4. Conversión de longitud\")\n",
        "        print(\"5. Conversión de almacenamiento\")\n",
        "        print(\"6. Conversión de tiempo\")\n",
        "        print(\"7. Conversión de área\")\n",
        "        print(\"8. Salir\")\n",
        "\n",
        "        opcion = input(\"opcion: \")\n",
        "\n",
        "        if opcion == \"1\":\n",
        "            Cmonedas()\n",
        "        elif opcion == \"2\":\n",
        "            Cmasa()\n",
        "        elif opcion == \"3\":\n",
        "            Cvolumen()\n",
        "        elif opcion == \"4\":\n",
        "            Clongitud()\n",
        "        elif opcion == \"5\":\n",
        "            Calmacenamiento()\n",
        "        elif opcion == \"6\":\n",
        "            Ctiempo()\n",
        "        elif opcion == \"7\":\n",
        "            Carea()\n",
        "        elif opcion == \"8\":\n",
        "            print(\"Saliendo del programa...\")\n",
        "            break\n",
        "        else:\n",
        "            print(\"Opción no válida. Inténtalo de nuevo.\")\n",
        "\n",
        "menu_principal()"
      ],
      "metadata": {
        "colab": {
          "base_uri": "https://localhost:8080/"
        },
        "id": "xfnB3VEGD87D",
        "outputId": "83b283f4-8ad2-4d94-b32e-6327b4388377"
      },
      "execution_count": null,
      "outputs": [
        {
          "output_type": "stream",
          "name": "stdout",
          "text": [
            "\n",
            "***Menu de opciones***\n",
            "1. Conversión de monedas\n",
            "2. Conversión de masas\n",
            "3. Conversión de volumen\n",
            "4. Conversión de longitud\n",
            "5. Conversión de almacenamiento\n",
            "6. Conversión de tiempo\n",
            "7. Conversión de área\n",
            "8. Salir\n",
            "opcion: 7\n",
            "\n",
            "*** Conversor de Area ***\n",
            "Unidades disponibles:\n",
            "1. Metro Cuadrado\n",
            "2. Kilómetro Cuadrado\n",
            "3. Hectárea\n",
            "4. Pie Cuadrado\n",
            "5. Centímetro Cuadrado\n",
            "6. Milla Cuadrada\n",
            "7. Acre\n",
            "8. Yarda Cuadrada\n",
            "9. Manzana\n",
            "10. Tarea\n",
            "Selecciona la unidad de origen: 9\n",
            "Selecciona la unidad de destino: 1\n",
            "Ingresa el valor en Manzana: 1\n",
            "1.0 Manzana equivale a 7000.007000007 Metro Cuadrado\n",
            "\n",
            "***Menu de opciones***\n",
            "1. Conversión de monedas\n",
            "2. Conversión de masas\n",
            "3. Conversión de volumen\n",
            "4. Conversión de longitud\n",
            "5. Conversión de almacenamiento\n",
            "6. Conversión de tiempo\n",
            "7. Conversión de área\n",
            "8. Salir\n",
            "opcion: 7\n",
            "\n",
            "*** Conversor de Area ***\n",
            "Unidades disponibles:\n",
            "1. Metro Cuadrado\n",
            "2. Kilómetro Cuadrado\n",
            "3. Hectárea\n",
            "4. Pie Cuadrado\n",
            "5. Centímetro Cuadrado\n",
            "6. Milla Cuadrada\n",
            "7. Acre\n",
            "8. Yarda Cuadrada\n",
            "9. Manzana\n",
            "10. Tarea\n",
            "Selecciona la unidad de origen: 10\n",
            "Selecciona la unidad de destino: 9\n",
            "Ingresa el valor en Tarea: 1\n",
            "1.0 Tarea equivale a 0.0625003281270508 Manzana\n",
            "\n",
            "***Menu de opciones***\n",
            "1. Conversión de monedas\n",
            "2. Conversión de masas\n",
            "3. Conversión de volumen\n",
            "4. Conversión de longitud\n",
            "5. Conversión de almacenamiento\n",
            "6. Conversión de tiempo\n",
            "7. Conversión de área\n",
            "8. Salir\n",
            "opcion: 8\n",
            "Saliendo del programa...\n"
          ]
        }
      ]
    },
    {
      "cell_type": "markdown",
      "source": [
        "Conversor propio, de unidades a cajas y viseversa"
      ],
      "metadata": {
        "id": "sNzU52aJLPQt"
      }
    },
    {
      "cell_type": "code",
      "source": [
        "\n",
        "def conversor_cajas():\n",
        "\n",
        "    unidades_por_caja = 25\n",
        "\n",
        "    print(\"Opciones de conversión:\")\n",
        "    print(\"1. Convertir de unidades a cajas\")\n",
        "    print(\"2. Convertir de cajas a unidades\")\n",
        "\n",
        "    opcion = input(\"Selecciona una opción (1 o 2): \")\n",
        "\n",
        "    if opcion == \"1\":\n",
        "\n",
        "        valor_unidades = float(input(\"Ingresa la cantidad de unidades: \"))\n",
        "        resultado = valor_unidades / unidades_por_caja\n",
        "        print(f\"{valor_unidades} unidades equivalen a {resultado} cajas.\")\n",
        "\n",
        "    elif opcion == \"2\":\n",
        "\n",
        "        valor_cajas = float(input(\"Ingresa la cantidad de cajas: \"))\n",
        "        resultado = valor_cajas * unidades_por_caja\n",
        "        print(f\"{valor_cajas} cajas equivalen a {resultado} unidades.\")\n",
        "\n",
        "    else:\n",
        "        print(\"Opción no válida. Por favor, selecciona 1 o 2.\")\n",
        "\n",
        "\n",
        "conversor_cajas()"
      ],
      "metadata": {
        "colab": {
          "base_uri": "https://localhost:8080/"
        },
        "id": "fw0SM6-qLTds",
        "outputId": "6c5eeb7c-9dbd-4c36-a211-a06da2c68b86"
      },
      "execution_count": null,
      "outputs": [
        {
          "output_type": "stream",
          "name": "stdout",
          "text": [
            "Opciones de conversión:\n",
            "1. Convertir de unidades a cajas\n",
            "2. Convertir de cajas a unidades\n",
            "Selecciona una opción (1 o 2): 1\n",
            "Ingresa la cantidad de unidades: 80\n",
            "80.0 unidades equivalen a 3.2 cajas.\n"
          ]
        }
      ]
    }
  ]
}