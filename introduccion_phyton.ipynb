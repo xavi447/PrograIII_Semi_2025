{
  "nbformat": 4,
  "nbformat_minor": 0,
  "metadata": {
    "colab": {
      "provenance": [],
      "authorship_tag": "ABX9TyM2Ba48PSVVj21jFCUoSXRj",
      "include_colab_link": true
    },
    "kernelspec": {
      "name": "python3",
      "display_name": "Python 3"
    },
    "language_info": {
      "name": "python"
    }
  },
  "cells": [
    {
      "cell_type": "markdown",
      "metadata": {
        "id": "view-in-github",
        "colab_type": "text"
      },
      "source": [
        "<a href=\"https://colab.research.google.com/github/xavi447/PrograIII_Semi_2025/blob/main/introduccion_phyton.ipynb\" target=\"_parent\"><img src=\"https://colab.research.google.com/assets/colab-badge.svg\" alt=\"Open In Colab\"/></a>"
      ]
    },
    {
      "cell_type": "code",
      "execution_count": null,
      "metadata": {
        "colab": {
          "base_uri": "https://localhost:8080/"
        },
        "id": "P7ssM0rocB2U",
        "outputId": "bd9b70de-7dd2-4947-c146-148128ae5c78"
      },
      "outputs": [
        {
          "output_type": "stream",
          "name": "stdout",
          "text": [
            "Hola mundo!\n",
            "Bienvenidos a la clase de programacion computacional III\n"
          ]
        }
      ],
      "source": [
        "print(\"Hola mundo!\")\n",
        "print(\"Bienvenidos a la clase de programacion computacional III\")"
      ]
    },
    {
      "cell_type": "code",
      "source": [
        "nombre = \"Javier Romero\"\n",
        "edad = 20\n",
        "print(nombre, edad)\n",
        "\n",
        "edad = \"veinte\"\n",
        "print(\"tu edad: \", edad)"
      ],
      "metadata": {
        "colab": {
          "base_uri": "https://localhost:8080/"
        },
        "id": "Gdg92uovdLq0",
        "outputId": "77cf2b67-c5da-477b-8bbf-d3326f551829"
      },
      "execution_count": null,
      "outputs": [
        {
          "output_type": "stream",
          "name": "stdout",
          "text": [
            "Javier Romero 20\n",
            "tu edad:  veinte\n"
          ]
        }
      ]
    },
    {
      "cell_type": "code",
      "source": [
        "num1 = 7\n",
        "num2= 6.5\n",
        "suma = num1 + num2\n",
        "print(\"La suma es:\", suma)"
      ],
      "metadata": {
        "colab": {
          "base_uri": "https://localhost:8080/"
        },
        "id": "yyMbr0Lhe5-U",
        "outputId": "0b41ca59-796b-4daa-836f-f7e6c26cde34"
      },
      "execution_count": null,
      "outputs": [
        {
          "output_type": "stream",
          "name": "stdout",
          "text": [
            "La suma es: 13.5\n"
          ]
        }
      ]
    },
    {
      "cell_type": "code",
      "source": [
        "num1 = float (input(\"Num1: \"))\n",
        "num2 = float (input(\"Num2: \"))\n",
        "suma = num1 + num2\n",
        "print(\"La suma es: \", suma)"
      ],
      "metadata": {
        "colab": {
          "base_uri": "https://localhost:8080/"
        },
        "id": "U3mBlEsgfeVX",
        "outputId": "4fd21d1c-3af0-49c6-ecc1-062d6ae5335c"
      },
      "execution_count": null,
      "outputs": [
        {
          "output_type": "stream",
          "name": "stdout",
          "text": [
            "Num1: 20\n",
            "Num2: 13\n",
            "La suma es:  33.0\n"
          ]
        }
      ]
    },
    {
      "cell_type": "code",
      "source": [
        "num1 = float(input(\"Num1: \"))\n",
        "num2 = float(input(\"Num2: \"))\n",
        "resta = num1 - num2\n",
        "print(\"La resta es: \", resta)"
      ],
      "metadata": {
        "colab": {
          "base_uri": "https://localhost:8080/"
        },
        "id": "55mS1Dl3hwm8",
        "outputId": "cb50d532-72ef-45c1-c898-6348bdcf98a5"
      },
      "execution_count": null,
      "outputs": [
        {
          "output_type": "stream",
          "name": "stdout",
          "text": [
            "Num1: 3\n",
            "Num2: 3\n",
            "La resta es:  0.0\n"
          ]
        }
      ]
    },
    {
      "cell_type": "markdown",
      "source": [
        "TIPOS DE DATOS EN PYTHON"
      ],
      "metadata": {
        "id": "9Jrbpv9hMj8J"
      }
    },
    {
      "cell_type": "code",
      "source": [
        "# entero\n",
        "num1 = 6\n",
        "print (str(num1) + \" Esto es un numero entero\")\n",
        "\n",
        "#Decimal\n",
        "num2 = 7.5\n",
        "print(num2, \"Esto es un numero decimal\")\n",
        "\n",
        "#Boolenao\n",
        "esMayor = True\n",
        "print(esMayor, \"Esto es un booleano\")\n",
        "\n",
        "#Cadena\n",
        "nombre = \"Javier Romero\"\n",
        "print(nombre, \"Esto es una cadena\")\n",
        "print(nombre, \"Letra inicial:\", nombre[0],\"Un valor en especifico:\", nombre[5], \"rango:\", nombre[0:6],\"Comenzar desde el final:\", nombre[-1])\n",
        "\n",
        "#Fecha\n",
        "from datetime import datetime, date, time\n",
        "fecha = datetime.now()\n",
        "print(fecha, fecha.date(), fecha.time())\n",
        "print(type(fecha))\n",
        "\n",
        "\n",
        "fechaPersonalizada = date(2025,8,1)\n",
        "print(fechaPersonalizada)\n",
        "\n"
      ],
      "metadata": {
        "colab": {
          "base_uri": "https://localhost:8080/"
        },
        "id": "s5ONouDjMsnL",
        "outputId": "32ef4956-41be-4983-a526-47d8b8eec734"
      },
      "execution_count": null,
      "outputs": [
        {
          "output_type": "stream",
          "name": "stdout",
          "text": [
            "6 Esto es un numero entero\n",
            "7.5 Esto es un numero decimal\n",
            "True Esto es un booleano\n",
            "Javier Romero Esto es una cadena\n",
            "Javier Romero Letra inicial: J Un valor en especifico: r rango: Javier Comenzar desde el final: o\n",
            "2025-07-28 14:09:48.340174 2025-07-28 14:09:48.340174\n",
            "<class 'datetime.datetime'>\n",
            "2025-08-01\n"
          ]
        }
      ]
    },
    {
      "cell_type": "markdown",
      "source": [
        "FUNCIONES EN PYTHON"
      ],
      "metadata": {
        "id": "CN_qRkifagX6"
      }
    },
    {
      "cell_type": "code",
      "source": [
        "#Suma\n",
        "def suma(num1, num2):\n",
        "    return num1 + num2"
      ],
      "metadata": {
        "id": "0MZuf1LUal9S"
      },
      "execution_count": null,
      "outputs": []
    },
    {
      "cell_type": "code",
      "source": [
        "print( \"la suma de 5 + 8 es: \", suma(5,8))"
      ],
      "metadata": {
        "colab": {
          "base_uri": "https://localhost:8080/"
        },
        "id": "jyR-vW4rbhWS",
        "outputId": "c39a6209-b1c9-4843-8d76-5379a09a8f32"
      },
      "execution_count": null,
      "outputs": [
        {
          "output_type": "stream",
          "name": "stdout",
          "text": [
            "la suma de 5 + 8 es:  13\n"
          ]
        }
      ]
    },
    {
      "cell_type": "code",
      "source": [
        "num1 = float(input(\"Num1: \"))\n",
        "num2 = float(input(\"Num2: \"))\n",
        "respuesta = suma(num1, num2)\n",
        "print(\"La suma es: \", respuesta)"
      ],
      "metadata": {
        "colab": {
          "base_uri": "https://localhost:8080/"
        },
        "id": "8dbOm6dechnC",
        "outputId": "cd6df081-5428-4501-ae1e-cb8870d04822"
      },
      "execution_count": null,
      "outputs": [
        {
          "output_type": "stream",
          "name": "stdout",
          "text": [
            "Num1: 4\n",
            "Num2: 6\n",
            "La suma es:  10.0\n"
          ]
        }
      ]
    },
    {
      "cell_type": "markdown",
      "source": [
        "TAREA"
      ],
      "metadata": {
        "id": "pZYHGDORvfa7"
      }
    },
    {
      "cell_type": "code",
      "source": [
        "#Resta\n",
        "def resta(num1, num2):\n",
        "    return num1 - num2"
      ],
      "metadata": {
        "id": "kFmjmtHhvjU9"
      },
      "execution_count": null,
      "outputs": []
    },
    {
      "cell_type": "code",
      "source": [
        "print( \"la resta de 5 - 8 es: \", resta(5,8))"
      ],
      "metadata": {
        "colab": {
          "base_uri": "https://localhost:8080/"
        },
        "id": "2Ub_rnMavpz8",
        "outputId": "1ed202d9-fff7-4213-c859-2241adc0e7a9"
      },
      "execution_count": null,
      "outputs": [
        {
          "output_type": "stream",
          "name": "stdout",
          "text": [
            "la resta de 5 - 8 es:  -3\n"
          ]
        }
      ]
    },
    {
      "cell_type": "code",
      "source": [
        "num1 = float(input(\"Num1: \"))\n",
        "num2 = float(input(\"Num2: \"))\n",
        "respuesta = resta(num1, num2)\n",
        "print(\"La resta es: \", respuesta)"
      ],
      "metadata": {
        "colab": {
          "base_uri": "https://localhost:8080/"
        },
        "id": "FxIKCkYBv1NL",
        "outputId": "82ce0333-74bf-4d03-9415-908b1687b477"
      },
      "execution_count": null,
      "outputs": [
        {
          "output_type": "stream",
          "name": "stdout",
          "text": [
            "Num1: 6\n",
            "Num2: 3\n",
            "La resta es:  3.0\n"
          ]
        }
      ]
    },
    {
      "cell_type": "code",
      "source": [
        "#Haser un ejercicio en python haciendo uso de funciones de usuario, que convierta grados celcius a farenheit\n",
        "def celciusFarenheit(c):\n",
        "    return c * 1.8 + 32"
      ],
      "metadata": {
        "id": "5EWFKRheVDpt"
      },
      "execution_count": null,
      "outputs": []
    },
    {
      "cell_type": "code",
      "source": [
        "c = int(input(\"Grados c: \"))\n",
        "r = celciusFarenheit(c)\n",
        "print(\"F:\", r)"
      ],
      "metadata": {
        "colab": {
          "base_uri": "https://localhost:8080/"
        },
        "id": "zCjrK-WMXT6s",
        "outputId": "734d43ac-5618-40e7-8bb0-119f9fbd3399"
      },
      "execution_count": null,
      "outputs": [
        {
          "output_type": "stream",
          "name": "stdout",
          "text": [
            "Grados c: 38\n",
            "F: 100.4\n"
          ]
        }
      ]
    },
    {
      "cell_type": "code",
      "source": [
        "#Haser un ejercicio en python haciendo uso de funciones de usuario, que convierta grados farenheit a celcius\n",
        "def farenheitCelcius(f):\n",
        "    return (f - 32) * 5/9"
      ],
      "metadata": {
        "id": "BK_J0LMvZbNT"
      },
      "execution_count": null,
      "outputs": []
    },
    {
      "cell_type": "code",
      "source": [
        "f = float(input(\"Grados F: \"))\n",
        "r = farenheitCelcius(f)\n",
        "print(\"C: \", r)"
      ],
      "metadata": {
        "colab": {
          "base_uri": "https://localhost:8080/"
        },
        "id": "zdOaopVwZ0mI",
        "outputId": "0822c561-6da4-49d8-ab33-7adb179c0ab9"
      },
      "execution_count": null,
      "outputs": [
        {
          "output_type": "stream",
          "name": "stdout",
          "text": [
            "Grados F: 32\n",
            "C:  0.0\n"
          ]
        }
      ]
    },
    {
      "cell_type": "code",
      "source": [
        "#Haser un ejercicio en python haciendo uso de funciones de usuario, que convierta grados celcius a kelv\n",
        "def celciusKelvin(c):\n",
        "  return (c + 273.15)"
      ],
      "metadata": {
        "id": "tzCdRKtre3O9"
      },
      "execution_count": null,
      "outputs": []
    },
    {
      "cell_type": "code",
      "source": [
        "c = float(input(\"Grados C: \"))\n",
        "r = celciusKelvin(c)\n",
        "print(\"K: \", r)"
      ],
      "metadata": {
        "colab": {
          "base_uri": "https://localhost:8080/"
        },
        "id": "8N6yiKbPfgPA",
        "outputId": "369d613b-094a-47d0-99d6-31a79c0ac8ef"
      },
      "execution_count": null,
      "outputs": [
        {
          "output_type": "stream",
          "name": "stdout",
          "text": [
            "Grados C: 0\n",
            "K:  273.15\n"
          ]
        }
      ]
    },
    {
      "cell_type": "code",
      "source": [
        "# #Haser un ejercicio en python haciendo uso de funciones de usuario, que calcule el sueldo de un empleado segun el numero de horas trabajadas y el valor por hora\n",
        "def sueldo(numHoras, valorHora):\n",
        "    sueldo = numHoras * valorHora * 30\n",
        "    return sueldo\n",
        "\n",
        "\n"
      ],
      "metadata": {
        "id": "kPioiZY1hd90"
      },
      "execution_count": null,
      "outputs": []
    },
    {
      "cell_type": "code",
      "source": [
        "numHoras = float(input(\"Horas trabajadas: \"))\n",
        "valorHora = float(input(\"Valor por hora: \"))\n",
        "r = sueldo(numHoras, valorHora)\n",
        "print(\"Sueldo: \", r)"
      ],
      "metadata": {
        "colab": {
          "base_uri": "https://localhost:8080/"
        },
        "id": "klxC1j-TiiCt",
        "outputId": "a2c8782f-b9fc-443a-d713-5144160597a1"
      },
      "execution_count": null,
      "outputs": [
        {
          "output_type": "stream",
          "name": "stdout",
          "text": [
            "Horas trabajadas: 8\n",
            "Valor por hora: 10\n",
            "Sueldo:  2400.0\n"
          ]
        }
      ]
    },
    {
      "cell_type": "code",
      "source": [
        "## #Haser un ejercicio en python haciendo uso de funciones de usuario, que permita elevar un umero a un exponente\n",
        "def elevar(base, exponente):\n",
        "    return base ** exponente\n"
      ],
      "metadata": {
        "id": "RAvqR9m3jzgN"
      },
      "execution_count": null,
      "outputs": []
    },
    {
      "cell_type": "code",
      "source": [
        "b = float(input(\"Base: \"))\n",
        "e = float(input(\"Exponente: \"))\n",
        "r = elevar(b, e)\n",
        "print(\"el numero: \", b,\" elevando al \",e,\"da como resultado:\", r)"
      ],
      "metadata": {
        "colab": {
          "base_uri": "https://localhost:8080/"
        },
        "id": "8dINn09IkG3U",
        "outputId": "963bc1c1-671a-48fc-ed82-f75f712ed19f"
      },
      "execution_count": null,
      "outputs": [
        {
          "output_type": "stream",
          "name": "stdout",
          "text": [
            "Base: 2\n",
            "Exponente: 2\n",
            "el numero:  2.0  elevando al  2.0 da como resultado: 4.0\n"
          ]
        }
      ]
    },
    {
      "cell_type": "markdown",
      "source": [
        "Uso de funcion Reduse"
      ],
      "metadata": {
        "id": "gb2Z0_yVsPwU"
      }
    },
    {
      "cell_type": "code",
      "source": [
        "from functools import reduce\n",
        "\n",
        "numeros = [5,4,9,6,8,2,3]\n",
        "suma = reduce (lambda acum, num: acum + num, numeros)\n",
        "sumaPares = reduce (lambda acum, num: acum + num if num % 2 == 0 else acum, numeros,0)\n",
        "\n",
        "print(\"La suma es: \",suma)\n",
        "print(\"La suma de los pares es: \",sumaPares)\n",
        "print(\"Suma pares: \", sumaPares)\n",
        "\n",
        "#"
      ],
      "metadata": {
        "id": "s-HzEbio0mDE",
        "colab": {
          "base_uri": "https://localhost:8080/"
        },
        "outputId": "de3564cf-4063-4657-d38c-f573cf06e9aa"
      },
      "execution_count": 1,
      "outputs": [
        {
          "output_type": "stream",
          "name": "stdout",
          "text": [
            "La suma es:  37\n",
            "La suma de los pares es:  20\n",
            "Suma pares:  20\n"
          ]
        }
      ]
    },
    {
      "cell_type": "markdown",
      "source": [
        "TUPLAS"
      ],
      "metadata": {
        "id": "fb9BCVMDwnRE"
      }
    },
    {
      "cell_type": "code",
      "source": [
        "tupla = (1,2,3,7,8,9)\n",
        "print(\"Tupla: \", tupla, \"Primer elemento:\", tupla[0], \"El numero 5 parece:\", tupla.count(1))\n",
        "print(\"Ultimo elemento: \", tupla[-1])\n",
        "print(\"Rango: \", tupla[0:3])"
      ],
      "metadata": {
        "colab": {
          "base_uri": "https://localhost:8080/"
        },
        "id": "xRFRlNPwwppc",
        "outputId": "717bc42b-a072-4802-920d-f7dca93a76cc"
      },
      "execution_count": 7,
      "outputs": [
        {
          "output_type": "stream",
          "name": "stdout",
          "text": [
            "Tupla:  (1, 2, 3, 7, 8, 9) Primer elemento: 1 El numero 5 parece: 1\n",
            "Ultimo elemento:  9\n",
            "Rango:  (1, 2, 3)\n"
          ]
        }
      ]
    },
    {
      "cell_type": "code",
      "source": [
        "import datetime\n",
        "fecha = datetime.date.today()\n",
        "\n",
        "semana = (\"Lunes\", \"Martes\", \"Miercoles\", \"Jueves\", \"Viernes\", \"Sabado\", \"Domingo\")\n",
        "meses = (\"Enero\", \"Febrero\", \"Marzo\", \"Abril\", \"Mayo\", \"Junio\", \"Julio\", \"Agosto\", \"Septiembre\", \"Octubre\", \"Noviembre\", \"Diciembre\")\n",
        "dia = fecha.day\n",
        "mes = fecha.month\n",
        "year = fecha.year\n",
        "diaSemana = semana[fecha.isoweekday()]\n",
        "\n",
        "print(diaSemana, dia, \"de\", meses[mes], \"del\", year)\n",
        "print(fecha, fecha.isoweekday(), diaSemana)\n",
        "print(dia, mes, year)"
      ],
      "metadata": {
        "colab": {
          "base_uri": "https://localhost:8080/"
        },
        "id": "SlzAqVZf1Lz5",
        "outputId": "59e4374f-9196-462d-8aab-7bb777e6ba3d"
      },
      "execution_count": 10,
      "outputs": [
        {
          "output_type": "stream",
          "name": "stdout",
          "text": [
            "Miercoles 12 de Septiembre del 2025\n",
            "2025-08-12 2 Miercoles\n",
            "12 8 2025\n"
          ]
        }
      ]
    },
    {
      "cell_type": "markdown",
      "source": [
        "LISTAS"
      ],
      "metadata": {
        "id": "Oo2RJlGs3nxQ"
      }
    },
    {
      "cell_type": "code",
      "source": [
        "lista = [5,8,9,4,\"Progra III\", True, [4,8,9,[8,9,4]]]\n",
        "print(lista)"
      ],
      "metadata": {
        "colab": {
          "base_uri": "https://localhost:8080/"
        },
        "id": "jGjXbRO73pQQ",
        "outputId": "77dd2e8c-d617-439d-92a8-99f6c17b6cf6"
      },
      "execution_count": 13,
      "outputs": [
        {
          "output_type": "stream",
          "name": "stdout",
          "text": [
            "[5, 8, 9, 4, 'Progra III', True, [4, 8, 9, [8, 9, 4]]]\n"
          ]
        }
      ]
    },
    {
      "cell_type": "code",
      "source": [
        "def calcularPromedio(nota,notas):\n",
        " return notas[1]*0.3 + nota"
      ],
      "metadata": {
        "id": "lAsPRZjA5NtE"
      },
      "execution_count": 15,
      "outputs": []
    },
    {
      "cell_type": "code",
      "source": [
        " # Hacer un ejercicio en python que obtenga la nota final de Progra III del computo 1, hasiendo uso de las listas y de las funciones\n",
        "from functools import reduce\n",
        "\n",
        "notas = [[\"lab1\", 8], [\"Lab2\", 9], [\"Parcial\", 10]]\n",
        "prom = reduce(calcularPromedio, notas, 0)\n",
        "print(\"Nota final: \", prom)\n"
      ],
      "metadata": {
        "colab": {
          "base_uri": "https://localhost:8080/"
        },
        "id": "fFWv1vdb4yZn",
        "outputId": "32352773-fdec-4df3-feeb-d453ed9b226c"
      },
      "execution_count": 16,
      "outputs": [
        {
          "output_type": "stream",
          "name": "stdout",
          "text": [
            "Nota final:  8.1\n"
          ]
        }
      ]
    }
  ]
}