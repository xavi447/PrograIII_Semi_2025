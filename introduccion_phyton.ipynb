{
  "nbformat": 4,
  "nbformat_minor": 0,
  "metadata": {
    "colab": {
      "provenance": [],
      "authorship_tag": "ABX9TyMOX+ZYBzghanQ1dQ1gMy3q",
      "include_colab_link": true
    },
    "kernelspec": {
      "name": "python3",
      "display_name": "Python 3"
    },
    "language_info": {
      "name": "python"
    }
  },
  "cells": [
    {
      "cell_type": "markdown",
      "metadata": {
        "id": "view-in-github",
        "colab_type": "text"
      },
      "source": [
        "<a href=\"https://colab.research.google.com/github/xavi447/PrograIII_Semi_2025/blob/main/introduccion_phyton.ipynb\" target=\"_parent\"><img src=\"https://colab.research.google.com/assets/colab-badge.svg\" alt=\"Open In Colab\"/></a>"
      ]
    },
    {
      "cell_type": "code",
      "execution_count": null,
      "metadata": {
        "colab": {
          "base_uri": "https://localhost:8080/"
        },
        "id": "P7ssM0rocB2U",
        "outputId": "bd9b70de-7dd2-4947-c146-148128ae5c78"
      },
      "outputs": [
        {
          "output_type": "stream",
          "name": "stdout",
          "text": [
            "Hola mundo!\n",
            "Bienvenidos a la clase de programacion computacional III\n"
          ]
        }
      ],
      "source": [
        "print(\"Hola mundo!\")\n",
        "print(\"Bienvenidos a la clase de programacion computacional III\")"
      ]
    },
    {
      "cell_type": "code",
      "source": [
        "nombre = \"Javier Romero\"\n",
        "edad = 20\n",
        "print(nombre, edad)\n",
        "\n",
        "edad = \"veinte\"\n",
        "print(\"tu edad: \", edad)"
      ],
      "metadata": {
        "colab": {
          "base_uri": "https://localhost:8080/"
        },
        "id": "Gdg92uovdLq0",
        "outputId": "77cf2b67-c5da-477b-8bbf-d3326f551829"
      },
      "execution_count": null,
      "outputs": [
        {
          "output_type": "stream",
          "name": "stdout",
          "text": [
            "Javier Romero 20\n",
            "tu edad:  veinte\n"
          ]
        }
      ]
    },
    {
      "cell_type": "code",
      "source": [
        "num1 = 7\n",
        "num2= 6.5\n",
        "suma = num1 + num2\n",
        "print(\"La suma es:\", suma)"
      ],
      "metadata": {
        "colab": {
          "base_uri": "https://localhost:8080/"
        },
        "id": "yyMbr0Lhe5-U",
        "outputId": "0b41ca59-796b-4daa-836f-f7e6c26cde34"
      },
      "execution_count": null,
      "outputs": [
        {
          "output_type": "stream",
          "name": "stdout",
          "text": [
            "La suma es: 13.5\n"
          ]
        }
      ]
    },
    {
      "cell_type": "code",
      "source": [
        "num1 = float (input(\"Num1: \"))\n",
        "num2 = float (input(\"Num2: \"))\n",
        "suma = num1 + num2\n",
        "print(\"La suma es: \", suma)"
      ],
      "metadata": {
        "colab": {
          "base_uri": "https://localhost:8080/"
        },
        "id": "U3mBlEsgfeVX",
        "outputId": "4fd21d1c-3af0-49c6-ecc1-062d6ae5335c"
      },
      "execution_count": null,
      "outputs": [
        {
          "output_type": "stream",
          "name": "stdout",
          "text": [
            "Num1: 20\n",
            "Num2: 13\n",
            "La suma es:  33.0\n"
          ]
        }
      ]
    },
    {
      "cell_type": "code",
      "source": [
        "num1 = float(input(\"Num1: \"))\n",
        "num2 = float(input(\"Num2: \"))\n",
        "resta = num1 - num2\n",
        "print(\"La resta es: \", resta)"
      ],
      "metadata": {
        "colab": {
          "base_uri": "https://localhost:8080/"
        },
        "id": "55mS1Dl3hwm8",
        "outputId": "cb50d532-72ef-45c1-c898-6348bdcf98a5"
      },
      "execution_count": null,
      "outputs": [
        {
          "output_type": "stream",
          "name": "stdout",
          "text": [
            "Num1: 3\n",
            "Num2: 3\n",
            "La resta es:  0.0\n"
          ]
        }
      ]
    },
    {
      "cell_type": "markdown",
      "source": [
        "TIPOS DE DATOS EN PYTHON"
      ],
      "metadata": {
        "id": "9Jrbpv9hMj8J"
      }
    },
    {
      "cell_type": "code",
      "source": [
        "# entero\n",
        "num1 = 6\n",
        "print (str(num1) + \" Esto es un numero entero\")\n",
        "\n",
        "#Decimal\n",
        "num2 = 7.5\n",
        "print(num2, \"Esto es un numero decimal\")\n",
        "\n",
        "#Boolenao\n",
        "esMayor = True\n",
        "print(esMayor, \"Esto es un booleano\")\n",
        "\n",
        "#Cadena\n",
        "nombre = \"Javier Romero\"\n",
        "print(nombre, \"Esto es una cadena\")\n",
        "print(nombre, \"Letra inicial:\", nombre[0],\"Un valor en especifico:\", nombre[5], \"rango:\", nombre[0:6],\"Comenzar desde el final:\", nombre[-1])\n",
        "\n",
        "#Fecha\n",
        "from datetime import datetime, date, time\n",
        "fecha = datetime.now()\n",
        "print(fecha, fecha.date(), fecha.time())\n",
        "print(type(fecha))\n",
        "\n",
        "\n",
        "fechaPersonalizada = date(2025,8,1)\n",
        "print(fechaPersonalizada)\n",
        "\n"
      ],
      "metadata": {
        "colab": {
          "base_uri": "https://localhost:8080/"
        },
        "id": "s5ONouDjMsnL",
        "outputId": "32ef4956-41be-4983-a526-47d8b8eec734"
      },
      "execution_count": null,
      "outputs": [
        {
          "output_type": "stream",
          "name": "stdout",
          "text": [
            "6 Esto es un numero entero\n",
            "7.5 Esto es un numero decimal\n",
            "True Esto es un booleano\n",
            "Javier Romero Esto es una cadena\n",
            "Javier Romero Letra inicial: J Un valor en especifico: r rango: Javier Comenzar desde el final: o\n",
            "2025-07-28 14:09:48.340174 2025-07-28 14:09:48.340174\n",
            "<class 'datetime.datetime'>\n",
            "2025-08-01\n"
          ]
        }
      ]
    },
    {
      "cell_type": "markdown",
      "source": [
        "FUNCIONES EN PYTHON"
      ],
      "metadata": {
        "id": "CN_qRkifagX6"
      }
    },
    {
      "cell_type": "code",
      "source": [
        "#Suma\n",
        "def suma(num1, num2):\n",
        "    return num1 + num2"
      ],
      "metadata": {
        "id": "0MZuf1LUal9S"
      },
      "execution_count": null,
      "outputs": []
    },
    {
      "cell_type": "code",
      "source": [
        "print( \"la suma de 5 + 8 es: \", suma(5,8))"
      ],
      "metadata": {
        "colab": {
          "base_uri": "https://localhost:8080/"
        },
        "id": "jyR-vW4rbhWS",
        "outputId": "c39a6209-b1c9-4843-8d76-5379a09a8f32"
      },
      "execution_count": null,
      "outputs": [
        {
          "output_type": "stream",
          "name": "stdout",
          "text": [
            "la suma de 5 + 8 es:  13\n"
          ]
        }
      ]
    },
    {
      "cell_type": "code",
      "source": [
        "num1 = float(input(\"Num1: \"))\n",
        "num2 = float(input(\"Num2: \"))\n",
        "respuesta = suma(num1, num2)\n",
        "print(\"La suma es: \", respuesta)"
      ],
      "metadata": {
        "colab": {
          "base_uri": "https://localhost:8080/"
        },
        "id": "8dbOm6dechnC",
        "outputId": "cd6df081-5428-4501-ae1e-cb8870d04822"
      },
      "execution_count": null,
      "outputs": [
        {
          "output_type": "stream",
          "name": "stdout",
          "text": [
            "Num1: 4\n",
            "Num2: 6\n",
            "La suma es:  10.0\n"
          ]
        }
      ]
    },
    {
      "cell_type": "markdown",
      "source": [
        "TAREA"
      ],
      "metadata": {
        "id": "pZYHGDORvfa7"
      }
    },
    {
      "cell_type": "code",
      "source": [
        "#Resta\n",
        "def resta(num1, num2):\n",
        "    return num1 - num2"
      ],
      "metadata": {
        "id": "kFmjmtHhvjU9"
      },
      "execution_count": null,
      "outputs": []
    },
    {
      "cell_type": "code",
      "source": [
        "print( \"la resta de 5 - 8 es: \", resta(5,8))"
      ],
      "metadata": {
        "colab": {
          "base_uri": "https://localhost:8080/"
        },
        "id": "2Ub_rnMavpz8",
        "outputId": "1ed202d9-fff7-4213-c859-2241adc0e7a9"
      },
      "execution_count": null,
      "outputs": [
        {
          "output_type": "stream",
          "name": "stdout",
          "text": [
            "la resta de 5 - 8 es:  -3\n"
          ]
        }
      ]
    },
    {
      "cell_type": "code",
      "source": [
        "num1 = float(input(\"Num1: \"))\n",
        "num2 = float(input(\"Num2: \"))\n",
        "respuesta = resta(num1, num2)\n",
        "print(\"La resta es: \", respuesta)"
      ],
      "metadata": {
        "colab": {
          "base_uri": "https://localhost:8080/"
        },
        "id": "FxIKCkYBv1NL",
        "outputId": "82ce0333-74bf-4d03-9415-908b1687b477"
      },
      "execution_count": null,
      "outputs": [
        {
          "output_type": "stream",
          "name": "stdout",
          "text": [
            "Num1: 6\n",
            "Num2: 3\n",
            "La resta es:  3.0\n"
          ]
        }
      ]
    },
    {
      "cell_type": "code",
      "source": [
        "#Haser un ejercicio en python haciendo uso de funciones de usuario, que convierta grados celcius a farenheit\n",
        "def celciusFarenheit(c):\n",
        "    return c * 1.8 + 32"
      ],
      "metadata": {
        "id": "5EWFKRheVDpt"
      },
      "execution_count": 3,
      "outputs": []
    },
    {
      "cell_type": "code",
      "source": [
        "c = int(input(\"Grados c: \"))\n",
        "r = celciusFarenheit(c)\n",
        "print(\"F:\", r)"
      ],
      "metadata": {
        "colab": {
          "base_uri": "https://localhost:8080/"
        },
        "id": "zCjrK-WMXT6s",
        "outputId": "734d43ac-5618-40e7-8bb0-119f9fbd3399"
      },
      "execution_count": 5,
      "outputs": [
        {
          "output_type": "stream",
          "name": "stdout",
          "text": [
            "Grados c: 38\n",
            "F: 100.4\n"
          ]
        }
      ]
    },
    {
      "cell_type": "code",
      "source": [
        "#Haser un ejercicio en python haciendo uso de funciones de usuario, que convierta grados farenheit a celcius\n",
        "def farenheitCelcius(f):\n",
        "    return (f - 32) * 5/9"
      ],
      "metadata": {
        "id": "BK_J0LMvZbNT"
      },
      "execution_count": 18,
      "outputs": []
    },
    {
      "cell_type": "code",
      "source": [
        "f = float(input(\"Grados F: \"))\n",
        "r = farenheitCelcius(f)\n",
        "print(\"C: \", r)"
      ],
      "metadata": {
        "colab": {
          "base_uri": "https://localhost:8080/"
        },
        "id": "zdOaopVwZ0mI",
        "outputId": "0822c561-6da4-49d8-ab33-7adb179c0ab9"
      },
      "execution_count": 20,
      "outputs": [
        {
          "output_type": "stream",
          "name": "stdout",
          "text": [
            "Grados F: 32\n",
            "C:  0.0\n"
          ]
        }
      ]
    },
    {
      "cell_type": "code",
      "source": [
        "#Haser un ejercicio en python haciendo uso de funciones de usuario, que convierta grados celcius a kelv\n",
        "def celciusKelvin(c):\n",
        "  return (c + 273.15)"
      ],
      "metadata": {
        "id": "tzCdRKtre3O9"
      },
      "execution_count": 32,
      "outputs": []
    },
    {
      "cell_type": "code",
      "source": [
        "c = float(input(\"Grados C: \"))\n",
        "r = celciusKelvin(c)\n",
        "print(\"K: \", r)"
      ],
      "metadata": {
        "colab": {
          "base_uri": "https://localhost:8080/"
        },
        "id": "8N6yiKbPfgPA",
        "outputId": "369d613b-094a-47d0-99d6-31a79c0ac8ef"
      },
      "execution_count": 33,
      "outputs": [
        {
          "output_type": "stream",
          "name": "stdout",
          "text": [
            "Grados C: 0\n",
            "K:  273.15\n"
          ]
        }
      ]
    },
    {
      "cell_type": "code",
      "source": [
        "# #Haser un ejercicio en python haciendo uso de funciones de usuario, que calcule el sueldo de un empleado segun el numero de horas trabajadas y el valor por hora\n",
        "def sueldo(numHoras, valorHora):\n",
        "    sueldo = numHoras * valorHora * 30\n",
        "    return sueldo\n",
        "\n",
        "\n"
      ],
      "metadata": {
        "id": "kPioiZY1hd90"
      },
      "execution_count": 34,
      "outputs": []
    },
    {
      "cell_type": "code",
      "source": [
        "numHoras = float(input(\"Horas trabajadas: \"))\n",
        "valorHora = float(input(\"Valor por hora: \"))\n",
        "r = sueldo(numHoras, valorHora)\n",
        "print(\"Sueldo: \", r)"
      ],
      "metadata": {
        "colab": {
          "base_uri": "https://localhost:8080/"
        },
        "id": "klxC1j-TiiCt",
        "outputId": "a2c8782f-b9fc-443a-d713-5144160597a1"
      },
      "execution_count": 37,
      "outputs": [
        {
          "output_type": "stream",
          "name": "stdout",
          "text": [
            "Horas trabajadas: 8\n",
            "Valor por hora: 10\n",
            "Sueldo:  2400.0\n"
          ]
        }
      ]
    },
    {
      "cell_type": "code",
      "source": [
        "## #Haser un ejercicio en python haciendo uso de funciones de usuario, que permita elevar un umero a un exponente\n",
        "def elevar(base, exponente):\n",
        "    return base ** exponente\n"
      ],
      "metadata": {
        "id": "RAvqR9m3jzgN"
      },
      "execution_count": 38,
      "outputs": []
    },
    {
      "cell_type": "code",
      "source": [
        "b = float(input(\"Base: \"))\n",
        "e = float(input(\"Exponente: \"))\n",
        "r = elevar(b, e)\n",
        "print(\"el numero: \", b,\" elevando al \",e,\"da como resultado:\", r)"
      ],
      "metadata": {
        "colab": {
          "base_uri": "https://localhost:8080/"
        },
        "id": "8dINn09IkG3U",
        "outputId": "963bc1c1-671a-48fc-ed82-f75f712ed19f"
      },
      "execution_count": 39,
      "outputs": [
        {
          "output_type": "stream",
          "name": "stdout",
          "text": [
            "Base: 2\n",
            "Exponente: 2\n",
            "el numero:  2.0  elevando al  2.0 da como resultado: 4.0\n"
          ]
        }
      ]
    }
  ]
}